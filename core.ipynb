{
 "cells": [
  {
   "cell_type": "markdown",
   "id": "6fe70ed6",
   "metadata": {},
   "source": [
    "### 🧱 Step 1: Audio I/O (Hear & Speak Back)"
   ]
  },
  {
   "cell_type": "code",
   "execution_count": 1,
   "id": "261c3bc7",
   "metadata": {},
   "outputs": [],
   "source": [
    "import sounddevice as sd\n",
    "import numpy as np\n",
    "import scipy.io.wavfile as wav"
   ]
  },
  {
   "cell_type": "code",
   "execution_count": 2,
   "id": "08063423",
   "metadata": {},
   "outputs": [],
   "source": [
    "# Settings\n",
    "duration = 3   # seconds\n",
    "fs = 16000     # sample rate (16 kHz)"
   ]
  },
  {
   "cell_type": "code",
   "execution_count": 5,
   "id": "deb67ec7",
   "metadata": {},
   "outputs": [
    {
     "name": "stdout",
     "output_type": "stream",
     "text": [
      "🎤 Recording... Speak now!\n",
      "✅ Recording complete!\n",
      "🔊 Playing back your voice...\n",
      "🎉 Done! That’s your voice.\n"
     ]
    }
   ],
   "source": [
    "print(\"🎤 Recording... Speak now!\")\n",
    "recording = sd.rec(int(duration * fs), samplerate=fs, channels=1, dtype='int16')\n",
    "sd.wait()  # wait until done\n",
    "print(\"✅ Recording complete!\")\n",
    "\n",
    "# Save as a file (optional)\n",
    "wav.write(\"Recordings/whispy_test.wav\", fs, recording)\n",
    "\n",
    "# Playback\n",
    "print(\"🔊 Playing back your voice...\")\n",
    "sd.play(recording, fs)\n",
    "sd.wait()\n",
    "print(\"🎉 Done! That’s your voice.\")\n"
   ]
  },
  {
   "cell_type": "markdown",
   "id": "3a24ce0e",
   "metadata": {},
   "source": [
    "### 🧱 Step 2: Whispy learns to understand words (STT)"
   ]
  },
  {
   "cell_type": "code",
   "execution_count": 8,
   "id": "4fcb239a",
   "metadata": {},
   "outputs": [],
   "source": [
    "import sounddevice as sd\n",
    "import queue\n",
    "import json\n",
    "from vosk import Model, KaldiRecognizer"
   ]
  },
  {
   "cell_type": "code",
   "execution_count": null,
   "id": "0593dd6d",
   "metadata": {},
   "outputs": [],
   "source": [
    "# Load Vosk model\n",
    "model = Model(\"model\")\n",
    "recognizer = KaldiRecognizer(model, 16000)"
   ]
  },
  {
   "cell_type": "code",
   "execution_count": 9,
   "id": "c0312832",
   "metadata": {},
   "outputs": [],
   "source": [
    "q = queue.Queue()"
   ]
  },
  {
   "cell_type": "code",
   "execution_count": null,
   "id": "303084af",
   "metadata": {},
   "outputs": [],
   "source": [
    "def callback(indata, frames, time, status):\n",
    "    if status:\n",
    "        print(status)\n",
    "    q.put(bytes(indata))"
   ]
  },
  {
   "cell_type": "code",
   "execution_count": 13,
   "id": "9e2cd263",
   "metadata": {},
   "outputs": [
    {
     "name": "stdout",
     "output_type": "stream",
     "text": [
      "🎤 Whispy is listening... Say something! (say 'stop' to quit)\n",
      "📝 Whispy heard: comedy respite how are your derby\n",
      "📝 Whispy heard: they know i know how are you speak know how it then and of a lot of\n",
      "📝 Whispy heard: yeah\n",
      "📝 Whispy heard: as to come across a halfwit name of the and opponents of the colonel to\n",
      "📝 Whispy heard: but\n",
      "📝 Whispy heard: we were looking with well florida madame leash\n",
      "📝 Whispy heard: isn't that available\n",
      "📝 Whispy heard: is\n",
      "📝 Whispy heard: the media to stop\n",
      "👋 Whispy says: Bye Mansour!\n"
     ]
    }
   ],
   "source": [
    "# Open microphone stream\n",
    "with sd.RawInputStream(samplerate=16000, blocksize=8000, dtype='int16',\n",
    "                       channels=1, callback=callback):\n",
    "\n",
    "    print(\"🎤 Whispy is listening... Say something! (say 'stop' to quit)\")\n",
    "\n",
    "    while True:\n",
    "        data = q.get()\n",
    "        if recognizer.AcceptWaveform(data):\n",
    "            result = json.loads(recognizer.Result())\n",
    "            text = result[\"text\"]\n",
    "            if text:\n",
    "                print(\"📝 Whispy heard:\", text)\n",
    "                if \"stop\" in text.lower():\n",
    "                    print(\"👋 Whispy says: Bye Mansour!\")\n",
    "                    break"
   ]
  }
 ],
 "metadata": {
  "kernelspec": {
   "display_name": "Python 3",
   "language": "python",
   "name": "python3"
  },
  "language_info": {
   "codemirror_mode": {
    "name": "ipython",
    "version": 3
   },
   "file_extension": ".py",
   "mimetype": "text/x-python",
   "name": "python",
   "nbconvert_exporter": "python",
   "pygments_lexer": "ipython3",
   "version": "3.13.3"
  }
 },
 "nbformat": 4,
 "nbformat_minor": 5
}
