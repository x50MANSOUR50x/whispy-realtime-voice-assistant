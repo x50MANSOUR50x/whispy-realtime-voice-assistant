{
 "cells": [
  {
   "cell_type": "code",
   "execution_count": 1,
   "id": "261c3bc7",
   "metadata": {},
   "outputs": [],
   "source": [
    "import sounddevice as sd\n",
    "import numpy as np\n",
    "import scipy.io.wavfile as wav"
   ]
  },
  {
   "cell_type": "code",
   "execution_count": 2,
   "id": "08063423",
   "metadata": {},
   "outputs": [],
   "source": [
    "# Settings\n",
    "duration = 3   # seconds\n",
    "fs = 16000     # sample rate (16 kHz)"
   ]
  },
  {
   "cell_type": "code",
   "execution_count": 5,
   "id": "deb67ec7",
   "metadata": {},
   "outputs": [
    {
     "name": "stdout",
     "output_type": "stream",
     "text": [
      "🎤 Recording... Speak now!\n",
      "✅ Recording complete!\n",
      "🔊 Playing back your voice...\n",
      "🎉 Done! That’s your voice.\n"
     ]
    }
   ],
   "source": [
    "print(\"🎤 Recording... Speak now!\")\n",
    "recording = sd.rec(int(duration * fs), samplerate=fs, channels=1, dtype='int16')\n",
    "sd.wait()  # wait until done\n",
    "print(\"✅ Recording complete!\")\n",
    "\n",
    "# Save as a file (optional)\n",
    "wav.write(\"Recordings/whispy_test.wav\", fs, recording)\n",
    "\n",
    "# Playback\n",
    "print(\"🔊 Playing back your voice...\")\n",
    "sd.play(recording, fs)\n",
    "sd.wait()\n",
    "print(\"🎉 Done! That’s your voice.\")\n"
   ]
  }
 ],
 "metadata": {
  "kernelspec": {
   "display_name": "Python 3",
   "language": "python",
   "name": "python3"
  },
  "language_info": {
   "codemirror_mode": {
    "name": "ipython",
    "version": 3
   },
   "file_extension": ".py",
   "mimetype": "text/x-python",
   "name": "python",
   "nbconvert_exporter": "python",
   "pygments_lexer": "ipython3",
   "version": "3.13.3"
  }
 },
 "nbformat": 4,
 "nbformat_minor": 5
}
