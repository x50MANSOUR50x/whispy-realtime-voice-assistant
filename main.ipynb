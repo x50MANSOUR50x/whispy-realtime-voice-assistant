{
 "cells": [
  {
   "cell_type": "code",
   "execution_count": 1,
   "id": "615ecc28",
   "metadata": {},
   "outputs": [],
   "source": [
    "import sounddevice as sd\n",
    "import queue\n",
    "import json\n",
    "import pyttsx3\n",
    "import webbrowser\n",
    "import wikipedia\n",
    "import requests\n",
    "from vosk import Model, KaldiRecognizer\n",
    "from datetime import datetime"
   ]
  },
  {
   "cell_type": "code",
   "execution_count": 2,
   "id": "c5e34b4b",
   "metadata": {},
   "outputs": [],
   "source": [
    "# Load Vosk model\n",
    "model = Model(\"model\")\n",
    "recognizer = KaldiRecognizer(model, 16000)"
   ]
  },
  {
   "cell_type": "code",
   "execution_count": 3,
   "id": "afed5db8",
   "metadata": {},
   "outputs": [],
   "source": [
    "# TTS engine\n",
    "engine = pyttsx3.init()"
   ]
  },
  {
   "cell_type": "code",
   "execution_count": 4,
   "id": "85b6e71f",
   "metadata": {},
   "outputs": [],
   "source": [
    "q = queue.Queue()"
   ]
  },
  {
   "cell_type": "code",
   "execution_count": 5,
   "id": "be918c89",
   "metadata": {},
   "outputs": [],
   "source": [
    "def callback(indata, frames, time, status):\n",
    "    if status:\n",
    "        print(status)\n",
    "    q.put(bytes(indata))"
   ]
  },
  {
   "cell_type": "code",
   "execution_count": 6,
   "id": "ea9d944d",
   "metadata": {},
   "outputs": [],
   "source": [
    "def speak(text):\n",
    "    print(\"🗣️ Whispy says:\", text)\n",
    "    engine.say(text)\n",
    "    engine.runAndWait()"
   ]
  },
  {
   "cell_type": "code",
   "execution_count": 7,
   "id": "51d20e6f",
   "metadata": {},
   "outputs": [],
   "source": [
    "# Jokes list\n",
    "jokes = [\n",
    "    \"Why did the computer go to the doctor? Because it caught a virus!\",\n",
    "    \"What is a robot’s favorite snack? Computer chips!\",\n",
    "    \"Why did the math book look sad? Because it had too many problems!\"\n",
    "]"
   ]
  },
  {
   "cell_type": "code",
   "execution_count": 8,
   "id": "e9dea66f",
   "metadata": {},
   "outputs": [],
   "source": [
    "# Weather helper (simple, uses Open-Meteo)\n",
    "def get_weather():\n",
    "    try:\n",
    "        url = \"https://api.open-meteo.com/v1/forecast?latitude=28.61&longitude=77.20&current_weather=true\"  # Example: Delhi\n",
    "        response = requests.get(url).json()\n",
    "        temp = response[\"current_weather\"][\"temperature\"]\n",
    "        return f\"The current temperature is {temp} degrees Celsius.\"\n",
    "    except:\n",
    "        return \"Sorry, I could not fetch the weather right now.\""
   ]
  },
  {
   "cell_type": "code",
   "execution_count": null,
   "id": "b80fecf5",
   "metadata": {},
   "outputs": [
    {
     "name": "stdout",
     "output_type": "stream",
     "text": [
      "🗣️ Whispy says: Hello Mansour! I am Whispy. Say a command. Say stop to quit.\n",
      "📝 Whispy heard: hello is\n",
      "🗣️ Whispy says: Hello! Nice to hear you.\n",
      "📝 Whispy heard: hello always be\n",
      "🗣️ Whispy says: Hello! Nice to hear you.\n",
      "📝 Whispy heard: what's your name\n",
      "🗣️ Whispy says: My name is Whispy. I am your voice assistant.\n",
      "📝 Whispy heard: so can you open google for me\n",
      "🗣️ Whispy says: Opening Google for you!\n",
      "📝 Whispy heard: i'll be starting salary\n",
      "🗣️ Whispy says: I heard you say i'll be starting salary\n"
     ]
    }
   ],
   "source": [
    "# Open microphone stream\n",
    "with sd.RawInputStream(samplerate=16000, blocksize=8000, dtype='int16',\n",
    "                       channels=1, callback=callback):\n",
    "\n",
    "    speak(\"Hello Mansour! I am Whispy. Say a command. Say stop to quit.\")\n",
    "\n",
    "    while True:\n",
    "        data = q.get()\n",
    "        if recognizer.AcceptWaveform(data):\n",
    "            result = json.loads(recognizer.Result())\n",
    "            text = result[\"text\"]\n",
    "            if text:\n",
    "                print(\"📝 Whispy heard:\", text)\n",
    "\n",
    "                if \"stop\" in text.lower() or \"bye\" in text.lower():\n",
    "                    speak(\"Goodbye Mansour, see you soon!\")\n",
    "                    break\n",
    "\n",
    "                elif \"hello\" in text.lower() or \"hi\" in text.lower():\n",
    "                    speak(\"Hello! Nice to hear you.\")\n",
    "\n",
    "                elif \"your name\" in text.lower():\n",
    "                    speak(\"My name is Whispy. I am your voice assistant.\")\n",
    "\n",
    "                elif \"youtube\" in text.lower() or \"you tube\" in text.lower():\n",
    "                    speak(\"Opening YouTube for you!\")\n",
    "                    webbrowser.open(\"https://www.youtube.com\")\n",
    "\n",
    "                elif \"github\" in text.lower() or \"get up\" in text.lower():\n",
    "                    speak(\"Opening GitHub for you!\")\n",
    "                    webbrowser.open(\"https://www.github.com\")\n",
    "\n",
    "                elif \"facebook\" in text.lower():\n",
    "                    speak(\"Opening Facebook for you!\")\n",
    "                    webbrowser.open(\"https://www.facebook.com\")\n",
    "\n",
    "                elif \"google\" in text.lower():\n",
    "                    speak(\"Opening Google for you!\")\n",
    "                    webbrowser.open(\"https://www.google.com\")\n",
    "\n",
    "                elif \"time\" in text.lower():\n",
    "                    now = datetime.now().strftime(\"%H:%M\")\n",
    "                    speak(f\"The time is {now}\")\n",
    "\n",
    "                elif \"date\" in text.lower():\n",
    "                    today = datetime.now().strftime(\"%A, %B %d, %Y\")\n",
    "                    speak(f\"Today is {today}\")\n",
    "\n",
    "                elif \"joke\" in text.lower():\n",
    "                    import random\n",
    "                    joke = random.choice(jokes)\n",
    "                    speak(joke)\n",
    "\n",
    "                elif \"wikipedia\" in text.lower():\n",
    "                    try:\n",
    "                        query = text.replace(\"wikipedia\", \"\")\n",
    "                        result = wikipedia.summary(query, sentences=2)\n",
    "                        speak(result)\n",
    "                    except:\n",
    "                        speak(\"Sorry, I could not find anything on Wikipedia.\")\n",
    "\n",
    "                elif \"weather\" in text.lower():\n",
    "                    weather_info = get_weather()\n",
    "                    speak(weather_info)\n",
    "\n",
    "                else:\n",
    "                    speak(\"I heard you say \" + text)"
   ]
  }
 ],
 "metadata": {
  "kernelspec": {
   "display_name": "Python 3",
   "language": "python",
   "name": "python3"
  },
  "language_info": {
   "codemirror_mode": {
    "name": "ipython",
    "version": 3
   },
   "file_extension": ".py",
   "mimetype": "text/x-python",
   "name": "python",
   "nbconvert_exporter": "python",
   "pygments_lexer": "ipython3",
   "version": "3.13.3"
  }
 },
 "nbformat": 4,
 "nbformat_minor": 5
}
